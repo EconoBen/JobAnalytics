{
 "cells": [
  {
   "cell_type": "code",
   "execution_count": 2,
   "metadata": {},
   "outputs": [],
   "source": [
    "import polars as pl"
   ]
  },
  {
   "cell_type": "code",
   "execution_count": 3,
   "metadata": {},
   "outputs": [],
   "source": [
    "jobs = pl.read_csv(\"../data/unique_jobs.csv\").select([\"INDEX\", \"UNIQUE JOBS\"])\n",
    "\n",
    "cats = pl.read_json(\"../data/categorized_data.json\")\n",
    "\n",
    "agg = pl.read_csv(\"../data/WildRP_job_data_values_only.csv\")"
   ]
  },
  {
   "cell_type": "code",
   "execution_count": 4,
   "metadata": {},
   "outputs": [],
   "source": [
    "sample_df = (jobs.join(cats, on=\"INDEX\")\n",
    " \t .drop(\"JOB\")\n",
    "\t .join(agg, left_on=\"UNIQUE JOBS\", right_on=\"\")\n",
    ")"
   ]
  },
  {
   "cell_type": "code",
   "execution_count": 5,
   "metadata": {},
   "outputs": [],
   "source": [
    "sample_df = sample_df.rename({\"Completion Count\": \"COMPLETION_COUNT\",\n",
    "\t\t\t\t\t\t\t  \"Abandon Count\": \"ABANDON_COUNT\",\n",
    "\t\t\t\t\t\t\t  })"
   ]
  },
  {
   "cell_type": "code",
   "execution_count": 6,
   "metadata": {},
   "outputs": [],
   "source": [
    "# Calculate averages\n",
    "avg_completion_count_wagon = sample_df.filter(pl.col(\"REQUIRES_WAGON\") == 1)[\"COMPLETION_COUNT\"].mean()\n",
    "avg_completion_count_no_wagon = sample_df.filter(pl.col(\"REQUIRES_WAGON\") == 0)[\"COMPLETION_COUNT\"].mean()\n",
    "avg_abandon_count_wagon = sample_df.filter(pl.col(\"REQUIRES_WAGON\") == 1)[\"ABANDON_COUNT\"].mean()\n",
    "avg_abandon_count_no_wagon = sample_df.filter(pl.col(\"REQUIRES_WAGON\") == 0)[\"ABANDON_COUNT\"].mean()\n",
    "# IS_CRIMINAL averages\n",
    "avg_completion_count_criminal = sample_df.filter(pl.col(\"IS_CRIMINAL\") == 1)[\"COMPLETION_COUNT\"].mean()\n",
    "avg_completion_count_not_criminal = sample_df.filter(pl.col(\"IS_CRIMINAL\") == 0)[\"COMPLETION_COUNT\"].mean()\n",
    "avg_abandon_count_criminal = sample_df.filter(pl.col(\"IS_CRIMINAL\") == 1)[\"ABANDON_COUNT\"].mean()\n",
    "avg_abandon_count_not_criminal = sample_df.filter(pl.col(\"IS_CRIMINAL\") == 0)[\"ABANDON_COUNT\"].mean()\n",
    "\n",
    "# Create a DataFrame with the results\n",
    "result_df = pl.DataFrame({\n",
    "    \"AVG_COMPLETION_COUNT_WAGON\": [avg_completion_count_wagon],\n",
    "    \"AVG_COMPLETION_COUNT_NO_WAGON\": [avg_completion_count_no_wagon],\n",
    "    \"AVG_ABANDON_COUNT_WAGON\": [avg_abandon_count_wagon],\n",
    "    \"AVG_ABANDON_COUNT_NO_WAGON\": [avg_abandon_count_no_wagon],\n",
    "    \"AVG_COMPLETION_COUNT_CRIMINAL\": [avg_completion_count_criminal],\n",
    "    \"AVG_COMPLETION_COUNT_NOT_CRIMINAL\": [avg_completion_count_not_criminal],\n",
    "    \"AVG_ABANDON_COUNT_CRIMINAL\": [avg_abandon_count_criminal],\n",
    "    \"AVG_ABANDON_COUNT_NOT_CRIMINAL\": [avg_abandon_count_not_criminal],\n",
    "})\n",
    "\n"
   ]
  },
  {
   "cell_type": "code",
   "execution_count": 7,
   "metadata": {},
   "outputs": [
    {
     "data": {
      "text/plain": [
       "3.1770833333333335"
      ]
     },
     "execution_count": 7,
     "metadata": {},
     "output_type": "execute_result"
    }
   ],
   "source": [
    "avg_completion_count_criminal / avg_abandon_count_criminal"
   ]
  },
  {
   "cell_type": "code",
   "execution_count": 8,
   "metadata": {},
   "outputs": [
    {
     "data": {
      "text/plain": [
       "2.1954161640530763"
      ]
     },
     "execution_count": 8,
     "metadata": {},
     "output_type": "execute_result"
    }
   ],
   "source": [
    "avg_completion_count_not_criminal / avg_abandon_count_not_criminal"
   ]
  },
  {
   "cell_type": "code",
   "execution_count": 9,
   "metadata": {},
   "outputs": [
    {
     "data": {
      "text/plain": [
       "1.136444229529336"
      ]
     },
     "execution_count": 9,
     "metadata": {},
     "output_type": "execute_result"
    }
   ],
   "source": [
    "avg_completion_count_wagon /  avg_completion_count_no_wagon"
   ]
  },
  {
   "cell_type": "code",
   "execution_count": 10,
   "metadata": {},
   "outputs": [
    {
     "data": {
      "text/html": [
       "<div><style>\n",
       ".dataframe > thead > tr,\n",
       ".dataframe > tbody > tr {\n",
       "  text-align: right;\n",
       "  white-space: pre-wrap;\n",
       "}\n",
       "</style>\n",
       "<small>shape: (1, 8)</small><table border=\"1\" class=\"dataframe\"><thead><tr><th>AVG_COMPLETION_COUNT_WAGON</th><th>AVG_COMPLETION_COUNT_NO_WAGON</th><th>AVG_ABANDON_COUNT_WAGON</th><th>AVG_ABANDON_COUNT_NO_WAGON</th><th>AVG_COMPLETION_COUNT_CRIMINAL</th><th>AVG_COMPLETION_COUNT_NOT_CRIMINAL</th><th>AVG_ABANDON_COUNT_CRIMINAL</th><th>AVG_ABANDON_COUNT_NOT_CRIMINAL</th></tr><tr><td>f64</td><td>f64</td><td>f64</td><td>f64</td><td>f64</td><td>f64</td><td>f64</td><td>f64</td></tr></thead><tbody><tr><td>5.335106</td><td>4.694561</td><td>2.180851</td><td>2.154812</td><td>7.261905</td><td>4.727273</td><td>2.285714</td><td>2.153247</td></tr></tbody></table></div>"
      ],
      "text/plain": [
       "shape: (1, 8)\n",
       "┌────────────┬────────────┬────────────┬───────────┬───────────┬───────────┬───────────┬───────────┐\n",
       "│ AVG_COMPLE ┆ AVG_COMPLE ┆ AVG_ABANDO ┆ AVG_ABAND ┆ AVG_COMPL ┆ AVG_COMPL ┆ AVG_ABAND ┆ AVG_ABAND │\n",
       "│ TION_COUNT ┆ TION_COUNT ┆ N_COUNT_WA ┆ ON_COUNT_ ┆ ETION_COU ┆ ETION_COU ┆ ON_COUNT_ ┆ ON_COUNT_ │\n",
       "│ _WAGON     ┆ _NO_WAGON  ┆ GON        ┆ NO_WAGON  ┆ NT_CRIMIN ┆ NT_NOT_CR ┆ CRIMINAL  ┆ NOT_CRIMI │\n",
       "│ ---        ┆ ---        ┆ ---        ┆ ---       ┆ AL        ┆ IMI…      ┆ ---       ┆ NAL       │\n",
       "│ f64        ┆ f64        ┆ f64        ┆ f64       ┆ ---       ┆ ---       ┆ f64       ┆ ---       │\n",
       "│            ┆            ┆            ┆           ┆ f64       ┆ f64       ┆           ┆ f64       │\n",
       "╞════════════╪════════════╪════════════╪═══════════╪═══════════╪═══════════╪═══════════╪═══════════╡\n",
       "│ 5.335106   ┆ 4.694561   ┆ 2.180851   ┆ 2.154812  ┆ 7.261905  ┆ 4.727273  ┆ 2.285714  ┆ 2.153247  │\n",
       "└────────────┴────────────┴────────────┴───────────┴───────────┴───────────┴───────────┴───────────┘"
      ]
     },
     "execution_count": 10,
     "metadata": {},
     "output_type": "execute_result"
    }
   ],
   "source": [
    "result_df"
   ]
  },
  {
   "cell_type": "code",
   "execution_count": null,
   "metadata": {},
   "outputs": [],
   "source": []
  }
 ],
 "metadata": {
  "kernelspec": {
   "display_name": ".venv",
   "language": "python",
   "name": "python3"
  },
  "language_info": {
   "codemirror_mode": {
    "name": "ipython",
    "version": 3
   },
   "file_extension": ".py",
   "mimetype": "text/x-python",
   "name": "python",
   "nbconvert_exporter": "python",
   "pygments_lexer": "ipython3",
   "version": "3.12.4"
  }
 },
 "nbformat": 4,
 "nbformat_minor": 2
}
