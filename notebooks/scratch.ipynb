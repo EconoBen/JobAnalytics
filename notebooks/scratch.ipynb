{
 "cells": [
  {
   "cell_type": "code",
   "execution_count": 1,
   "metadata": {},
   "outputs": [],
   "source": [
    "import polars as pl"
   ]
  },
  {
   "cell_type": "code",
   "execution_count": 2,
   "metadata": {},
   "outputs": [],
   "source": [
    "jobs = pl.read_csv(\"../data/unique_jobs.csv\").select([\"INDEX\", \"UNIQUE JOBS\"])\n",
    "\n",
    "cats = pl.read_json(\"../data/categorized_data.json\")\n",
    "\n",
    "agg = pl.read_csv(\"../data/WildRP_job_data_values_only.csv\")\n",
    "\n",
    "raw_data = pl.read_csv(\"../data/WildRP Job Data - Raw Data.csv\")\n",
    "\n",
    "value_data = pl.read_csv(\"../data/WildRP_job_data_values_only.csv\").rename({\"\": \"JOB\"} )"
   ]
  },
  {
   "cell_type": "code",
   "execution_count": 3,
   "metadata": {},
   "outputs": [],
   "source": [
    "value_data = value_data.filter(pl.col(\"JOB\").is_not_null())"
   ]
  },
  {
   "cell_type": "code",
   "execution_count": 6,
   "metadata": {},
   "outputs": [
    {
     "data": {
      "text/html": [
       "<div><style>\n",
       ".dataframe > thead > tr,\n",
       ".dataframe > tbody > tr {\n",
       "  text-align: right;\n",
       "  white-space: pre-wrap;\n",
       "}\n",
       "</style>\n",
       "<small>shape: (1, 11)</small><table border=\"1\" class=\"dataframe\"><thead><tr><th>JOB</th><th>JobType</th><th>JobTemplateId</th><th>Abandon Count</th><th>Completion Count</th><th>Failed Count</th><th>Fatal Error Count</th><th>_duplicated_0</th><th>CharacterId</th><th>Abandon Count_duplicated_0</th><th>Completion Count_duplicated_0</th></tr><tr><td>str</td><td>str</td><td>i64</td><td>i64</td><td>i64</td><td>i64</td><td>i64</td><td>str</td><td>i64</td><td>i64</td><td>i64</td></tr></thead><tbody><tr><td>&quot;Bring a Crate of 5 Bank Bonds …</td><td>&quot;Delivery&quot;</td><td>751</td><td>3</td><td>0</td><td>0</td><td>0</td><td>null</td><td>14320</td><td>12</td><td>58</td></tr></tbody></table></div>"
      ],
      "text/plain": [
       "shape: (1, 11)\n",
       "┌───────────┬──────────┬───────────┬───────────┬───┬───────────┬───────────┬───────────┬───────────┐\n",
       "│ JOB       ┆ JobType  ┆ JobTempla ┆ Abandon   ┆ … ┆ _duplicat ┆ Character ┆ Abandon   ┆ Completio │\n",
       "│ ---       ┆ ---      ┆ teId      ┆ Count     ┆   ┆ ed_0      ┆ Id        ┆ Count_dup ┆ n Count_d │\n",
       "│ str       ┆ str      ┆ ---       ┆ ---       ┆   ┆ ---       ┆ ---       ┆ licated_0 ┆ uplicated │\n",
       "│           ┆          ┆ i64       ┆ i64       ┆   ┆ str       ┆ i64       ┆ ---       ┆ _0        │\n",
       "│           ┆          ┆           ┆           ┆   ┆           ┆           ┆ i64       ┆ ---       │\n",
       "│           ┆          ┆           ┆           ┆   ┆           ┆           ┆           ┆ i64       │\n",
       "╞═══════════╪══════════╪═══════════╪═══════════╪═══╪═══════════╪═══════════╪═══════════╪═══════════╡\n",
       "│ Bring a   ┆ Delivery ┆ 751       ┆ 3         ┆ … ┆ null      ┆ 14320     ┆ 12        ┆ 58        │\n",
       "│ Crate of  ┆          ┆           ┆           ┆   ┆           ┆           ┆           ┆           │\n",
       "│ 5 Bank    ┆          ┆           ┆           ┆   ┆           ┆           ┆           ┆           │\n",
       "│ Bonds …   ┆          ┆           ┆           ┆   ┆           ┆           ┆           ┆           │\n",
       "└───────────┴──────────┴───────────┴───────────┴───┴───────────┴───────────┴───────────┴───────────┘"
      ]
     },
     "execution_count": 6,
     "metadata": {},
     "output_type": "execute_result"
    }
   ],
   "source": [
    "value_data.head(1)"
   ]
  },
  {
   "cell_type": "code",
   "execution_count": 14,
   "metadata": {},
   "outputs": [],
   "source": [
    "full_jobs = value_data.select(pl.col([\"JobTemplateId\", \"JOB\"])).join(\n",
    "    raw_data,\n",
    "    on=\"JobTemplateId\",\n",
    "    how=\"inner\")"
   ]
  },
  {
   "cell_type": "code",
   "execution_count": 22,
   "metadata": {},
   "outputs": [
    {
     "data": {
      "text/html": [
       "<div><style>\n",
       ".dataframe > thead > tr,\n",
       ".dataframe > tbody > tr {\n",
       "  text-align: right;\n",
       "  white-space: pre-wrap;\n",
       "}\n",
       "</style>\n",
       "<small>shape: (1, 23)</small><table border=\"1\" class=\"dataframe\"><thead><tr><th>JobTemplateId</th><th>JOB</th><th>JobStarted</th><th>JobEnded</th><th>TimeLeft</th><th>JobState</th><th>ErrorMessage</th><th>LeadingCharacterId</th><th>SerializedCharacterIds</th><th>LawInformed</th><th>JobType</th><th>CharacterId</th><th>JobType_duplicated_0</th><th>SerializedDeliveriesCompleted</th><th>SerializedRanchChoreJobStatus</th><th>SerializedDestinations</th><th>SerializedHuntingJobStatus</th><th>DepositCompleted</th><th>HerdLost</th><th>HerdedCount</th><th>HerdingState</th><th>RetryCount</th><th>SerializedNetworkIds</th></tr><tr><td>i64</td><td>str</td><td>str</td><td>str</td><td>i64</td><td>i64</td><td>str</td><td>i64</td><td>str</td><td>i64</td><td>str</td><td>i64</td><td>str</td><td>str</td><td>str</td><td>str</td><td>str</td><td>i64</td><td>i64</td><td>i64</td><td>i64</td><td>i64</td><td>str</td></tr></thead><tbody><tr><td>613</td><td>&quot;Crates with 30 Coal each to be…</td><td>&quot;2024-04-25 4:35:30&quot;</td><td>null</td><td>0</td><td>3</td><td>null</td><td>0</td><td>null</td><td>0</td><td>&quot;Delivery&quot;</td><td>10282</td><td>&quot;Delivery&quot;</td><td>null</td><td>null</td><td>&quot;[&quot;caliga_hall&quot;,&quot;hillhaven_ranc…</td><td>null</td><td>null</td><td>0</td><td>0</td><td>0</td><td>0</td><td>null</td></tr></tbody></table></div>"
      ],
      "text/plain": [
       "shape: (1, 23)\n",
       "┌───────────┬───────────┬───────────┬──────────┬───┬───────────┬───────────┬───────────┬───────────┐\n",
       "│ JobTempla ┆ JOB       ┆ JobStarte ┆ JobEnded ┆ … ┆ HerdedCou ┆ HerdingSt ┆ RetryCoun ┆ Serialize │\n",
       "│ teId      ┆ ---       ┆ d         ┆ ---      ┆   ┆ nt        ┆ ate       ┆ t         ┆ dNetworkI │\n",
       "│ ---       ┆ str       ┆ ---       ┆ str      ┆   ┆ ---       ┆ ---       ┆ ---       ┆ ds        │\n",
       "│ i64       ┆           ┆ str       ┆          ┆   ┆ i64       ┆ i64       ┆ i64       ┆ ---       │\n",
       "│           ┆           ┆           ┆          ┆   ┆           ┆           ┆           ┆ str       │\n",
       "╞═══════════╪═══════════╪═══════════╪══════════╪═══╪═══════════╪═══════════╪═══════════╪═══════════╡\n",
       "│ 613       ┆ Crates    ┆ 2024-04-2 ┆ null     ┆ … ┆ 0         ┆ 0         ┆ 0         ┆ null      │\n",
       "│           ┆ with 30   ┆ 5 4:35:30 ┆          ┆   ┆           ┆           ┆           ┆           │\n",
       "│           ┆ Coal each ┆           ┆          ┆   ┆           ┆           ┆           ┆           │\n",
       "│           ┆ to be…    ┆           ┆          ┆   ┆           ┆           ┆           ┆           │\n",
       "└───────────┴───────────┴───────────┴──────────┴───┴───────────┴───────────┴───────────┴───────────┘"
      ]
     },
     "execution_count": 22,
     "metadata": {},
     "output_type": "execute_result"
    }
   ],
   "source": [
    "full_jobs.head(1)"
   ]
  },
  {
   "cell_type": "code",
   "execution_count": 21,
   "metadata": {},
   "outputs": [
    {
     "data": {
      "text/html": [
       "<div><style>\n",
       ".dataframe > thead > tr,\n",
       ".dataframe > tbody > tr {\n",
       "  text-align: right;\n",
       "  white-space: pre-wrap;\n",
       "}\n",
       "</style>\n",
       "<small>shape: (10, 3)</small><table border=\"1\" class=\"dataframe\"><thead><tr><th>CharacterId</th><th>JOB</th><th>len</th></tr><tr><td>i64</td><td>str</td><td>u32</td></tr></thead><tbody><tr><td>20719</td><td>&quot;Help out with chores at Prongh…</td><td>199</td></tr><tr><td>18633</td><td>&quot;Help out with chores at Prongh…</td><td>189</td></tr><tr><td>5544</td><td>&quot;Help out with chores at Prongh…</td><td>178</td></tr><tr><td>22556</td><td>&quot;Help with chores at Macfarlane…</td><td>148</td></tr><tr><td>10071</td><td>&quot;Help out with chores at Prongh…</td><td>113</td></tr><tr><td>20719</td><td>&quot;Travel to Downes Ranch and hel…</td><td>110</td></tr><tr><td>14796</td><td>&quot;Help out with chores at Prongh…</td><td>69</td></tr><tr><td>19433</td><td>&quot;Help out with chores at Emeral…</td><td>58</td></tr><tr><td>18675</td><td>&quot;Help out with chores at Prongh…</td><td>52</td></tr><tr><td>19433</td><td>&quot;Travel to Maclean&#x27;s Ranch and …</td><td>51</td></tr></tbody></table></div>"
      ],
      "text/plain": [
       "shape: (10, 3)\n",
       "┌─────────────┬─────────────────────────────────┬─────┐\n",
       "│ CharacterId ┆ JOB                             ┆ len │\n",
       "│ ---         ┆ ---                             ┆ --- │\n",
       "│ i64         ┆ str                             ┆ u32 │\n",
       "╞═════════════╪═════════════════════════════════╪═════╡\n",
       "│ 20719       ┆ Help out with chores at Prongh… ┆ 199 │\n",
       "│ 18633       ┆ Help out with chores at Prongh… ┆ 189 │\n",
       "│ 5544        ┆ Help out with chores at Prongh… ┆ 178 │\n",
       "│ 22556       ┆ Help with chores at Macfarlane… ┆ 148 │\n",
       "│ 10071       ┆ Help out with chores at Prongh… ┆ 113 │\n",
       "│ 20719       ┆ Travel to Downes Ranch and hel… ┆ 110 │\n",
       "│ 14796       ┆ Help out with chores at Prongh… ┆ 69  │\n",
       "│ 19433       ┆ Help out with chores at Emeral… ┆ 58  │\n",
       "│ 18675       ┆ Help out with chores at Prongh… ┆ 52  │\n",
       "│ 19433       ┆ Travel to Maclean's Ranch and … ┆ 51  │\n",
       "└─────────────┴─────────────────────────────────┴─────┘"
      ]
     },
     "execution_count": 21,
     "metadata": {},
     "output_type": "execute_result"
    }
   ],
   "source": [
    "full_jobs.group_by([\"CharacterId\",\"JOB\"]).len().sort(\"len\", descending=True).head(10)\n"
   ]
  },
  {
   "cell_type": "code",
   "execution_count": null,
   "metadata": {},
   "outputs": [],
   "source": []
  },
  {
   "cell_type": "code",
   "execution_count": null,
   "metadata": {},
   "outputs": [],
   "source": []
  },
  {
   "cell_type": "code",
   "execution_count": 4,
   "metadata": {},
   "outputs": [],
   "source": [
    "sample_df = (jobs.join(cats, on=\"INDEX\")\n",
    " \t .drop(\"JOB\")\n",
    "\t .join(agg, left_on=\"UNIQUE JOBS\", right_on=\"\")\n",
    ")"
   ]
  },
  {
   "cell_type": "code",
   "execution_count": 5,
   "metadata": {},
   "outputs": [],
   "source": [
    "sample_df = sample_df.rename({\"Completion Count\": \"COMPLETION_COUNT\",\n",
    "\t\t\t\t\t\t\t  \"Abandon Count\": \"ABANDON_COUNT\",\n",
    "\t\t\t\t\t\t\t  })"
   ]
  },
  {
   "cell_type": "code",
   "execution_count": 6,
   "metadata": {},
   "outputs": [],
   "source": [
    "# Calculate averages\n",
    "avg_completion_count_wagon = sample_df.filter(pl.col(\"REQUIRES_WAGON\") == 1)[\"COMPLETION_COUNT\"].mean()\n",
    "avg_completion_count_no_wagon = sample_df.filter(pl.col(\"REQUIRES_WAGON\") == 0)[\"COMPLETION_COUNT\"].mean()\n",
    "avg_abandon_count_wagon = sample_df.filter(pl.col(\"REQUIRES_WAGON\") == 1)[\"ABANDON_COUNT\"].mean()\n",
    "avg_abandon_count_no_wagon = sample_df.filter(pl.col(\"REQUIRES_WAGON\") == 0)[\"ABANDON_COUNT\"].mean()\n",
    "# IS_CRIMINAL averages\n",
    "avg_completion_count_criminal = sample_df.filter(pl.col(\"IS_CRIMINAL\") == 1)[\"COMPLETION_COUNT\"].mean()\n",
    "avg_completion_count_not_criminal = sample_df.filter(pl.col(\"IS_CRIMINAL\") == 0)[\"COMPLETION_COUNT\"].mean()\n",
    "avg_abandon_count_criminal = sample_df.filter(pl.col(\"IS_CRIMINAL\") == 1)[\"ABANDON_COUNT\"].mean()\n",
    "avg_abandon_count_not_criminal = sample_df.filter(pl.col(\"IS_CRIMINAL\") == 0)[\"ABANDON_COUNT\"].mean()\n",
    "\n",
    "# Create a DataFrame with the results\n",
    "result_df = pl.DataFrame({\n",
    "    \"AVG_COMPLETION_COUNT_WAGON\": [avg_completion_count_wagon],\n",
    "    \"AVG_COMPLETION_COUNT_NO_WAGON\": [avg_completion_count_no_wagon],\n",
    "    \"AVG_ABANDON_COUNT_WAGON\": [avg_abandon_count_wagon],\n",
    "    \"AVG_ABANDON_COUNT_NO_WAGON\": [avg_abandon_count_no_wagon],\n",
    "    \"AVG_COMPLETION_COUNT_CRIMINAL\": [avg_completion_count_criminal],\n",
    "    \"AVG_COMPLETION_COUNT_NOT_CRIMINAL\": [avg_completion_count_not_criminal],\n",
    "    \"AVG_ABANDON_COUNT_CRIMINAL\": [avg_abandon_count_criminal],\n",
    "    \"AVG_ABANDON_COUNT_NOT_CRIMINAL\": [avg_abandon_count_not_criminal],\n",
    "})\n",
    "\n"
   ]
  },
  {
   "cell_type": "code",
   "execution_count": 7,
   "metadata": {},
   "outputs": [
    {
     "data": {
      "text/plain": [
       "3.1770833333333335"
      ]
     },
     "execution_count": 7,
     "metadata": {},
     "output_type": "execute_result"
    }
   ],
   "source": [
    "avg_completion_count_criminal / avg_abandon_count_criminal"
   ]
  },
  {
   "cell_type": "code",
   "execution_count": 8,
   "metadata": {},
   "outputs": [
    {
     "data": {
      "text/plain": [
       "2.1954161640530763"
      ]
     },
     "execution_count": 8,
     "metadata": {},
     "output_type": "execute_result"
    }
   ],
   "source": [
    "avg_completion_count_not_criminal / avg_abandon_count_not_criminal"
   ]
  },
  {
   "cell_type": "code",
   "execution_count": 9,
   "metadata": {},
   "outputs": [
    {
     "data": {
      "text/plain": [
       "1.136444229529336"
      ]
     },
     "execution_count": 9,
     "metadata": {},
     "output_type": "execute_result"
    }
   ],
   "source": [
    "avg_completion_count_wagon /  avg_completion_count_no_wagon"
   ]
  },
  {
   "cell_type": "code",
   "execution_count": 10,
   "metadata": {},
   "outputs": [
    {
     "data": {
      "text/html": [
       "<div><style>\n",
       ".dataframe > thead > tr,\n",
       ".dataframe > tbody > tr {\n",
       "  text-align: right;\n",
       "  white-space: pre-wrap;\n",
       "}\n",
       "</style>\n",
       "<small>shape: (1, 8)</small><table border=\"1\" class=\"dataframe\"><thead><tr><th>AVG_COMPLETION_COUNT_WAGON</th><th>AVG_COMPLETION_COUNT_NO_WAGON</th><th>AVG_ABANDON_COUNT_WAGON</th><th>AVG_ABANDON_COUNT_NO_WAGON</th><th>AVG_COMPLETION_COUNT_CRIMINAL</th><th>AVG_COMPLETION_COUNT_NOT_CRIMINAL</th><th>AVG_ABANDON_COUNT_CRIMINAL</th><th>AVG_ABANDON_COUNT_NOT_CRIMINAL</th></tr><tr><td>f64</td><td>f64</td><td>f64</td><td>f64</td><td>f64</td><td>f64</td><td>f64</td><td>f64</td></tr></thead><tbody><tr><td>5.335106</td><td>4.694561</td><td>2.180851</td><td>2.154812</td><td>7.261905</td><td>4.727273</td><td>2.285714</td><td>2.153247</td></tr></tbody></table></div>"
      ],
      "text/plain": [
       "shape: (1, 8)\n",
       "┌────────────┬────────────┬────────────┬───────────┬───────────┬───────────┬───────────┬───────────┐\n",
       "│ AVG_COMPLE ┆ AVG_COMPLE ┆ AVG_ABANDO ┆ AVG_ABAND ┆ AVG_COMPL ┆ AVG_COMPL ┆ AVG_ABAND ┆ AVG_ABAND │\n",
       "│ TION_COUNT ┆ TION_COUNT ┆ N_COUNT_WA ┆ ON_COUNT_ ┆ ETION_COU ┆ ETION_COU ┆ ON_COUNT_ ┆ ON_COUNT_ │\n",
       "│ _WAGON     ┆ _NO_WAGON  ┆ GON        ┆ NO_WAGON  ┆ NT_CRIMIN ┆ NT_NOT_CR ┆ CRIMINAL  ┆ NOT_CRIMI │\n",
       "│ ---        ┆ ---        ┆ ---        ┆ ---       ┆ AL        ┆ IMI…      ┆ ---       ┆ NAL       │\n",
       "│ f64        ┆ f64        ┆ f64        ┆ f64       ┆ ---       ┆ ---       ┆ f64       ┆ ---       │\n",
       "│            ┆            ┆            ┆           ┆ f64       ┆ f64       ┆           ┆ f64       │\n",
       "╞════════════╪════════════╪════════════╪═══════════╪═══════════╪═══════════╪═══════════╪═══════════╡\n",
       "│ 5.335106   ┆ 4.694561   ┆ 2.180851   ┆ 2.154812  ┆ 7.261905  ┆ 4.727273  ┆ 2.285714  ┆ 2.153247  │\n",
       "└────────────┴────────────┴────────────┴───────────┴───────────┴───────────┴───────────┴───────────┘"
      ]
     },
     "execution_count": 10,
     "metadata": {},
     "output_type": "execute_result"
    }
   ],
   "source": [
    "result_df"
   ]
  },
  {
   "cell_type": "code",
   "execution_count": null,
   "metadata": {},
   "outputs": [],
   "source": []
  }
 ],
 "metadata": {
  "kernelspec": {
   "display_name": ".venv",
   "language": "python",
   "name": "python3"
  },
  "language_info": {
   "codemirror_mode": {
    "name": "ipython",
    "version": 3
   },
   "file_extension": ".py",
   "mimetype": "text/x-python",
   "name": "python",
   "nbconvert_exporter": "python",
   "pygments_lexer": "ipython3",
   "version": "3.12.4"
  }
 },
 "nbformat": 4,
 "nbformat_minor": 2
}
